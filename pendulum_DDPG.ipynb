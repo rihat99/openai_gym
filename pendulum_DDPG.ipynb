{
  "nbformat": 4,
  "nbformat_minor": 0,
  "metadata": {
    "colab": {
      "name": "cartpole_DDPG.ipynb",
      "provenance": [],
      "authorship_tag": "ABX9TyPIZDki28j+I91h1dF7cjs2",
      "include_colab_link": true
    },
    "kernelspec": {
      "name": "python3",
      "display_name": "Python 3"
    }
  },
  "cells": [
    {
      "cell_type": "markdown",
      "metadata": {
        "id": "view-in-github",
        "colab_type": "text"
      },
      "source": [
        "<a href=\"https://colab.research.google.com/github/rihat99/openai_gym/blob/main/pendulum_DDPG.ipynb\" target=\"_parent\"><img src=\"https://colab.research.google.com/assets/colab-badge.svg\" alt=\"Open In Colab\"/></a>"
      ]
    },
    {
      "cell_type": "code",
      "metadata": {
        "colab": {
          "base_uri": "https://localhost:8080/"
        },
        "id": "NIC_uYEExXxF",
        "outputId": "0f52fc8c-2e92-4f23-f15a-747f48d8dd9b"
      },
      "source": [
        "import gym\r\n",
        "import numpy as np\r\n",
        "import tensorflow as tf\r\n",
        "from tensorflow import keras\r\n",
        "from tensorflow.keras import layers\r\n",
        "import matplotlib.pyplot as plt\r\n",
        "\r\n",
        "env = gym.make('Pendulum-v0')\r\n",
        "# tf.random.set_seed(42)\r\n",
        "# np.random.seed(42)\r\n",
        "# env.seed(42)\r\n",
        "print(tf.__version__)\r\n",
        "print(gym.__version__)"
      ],
      "execution_count": 1,
      "outputs": [
        {
          "output_type": "stream",
          "text": [
            "2.4.1\n",
            "0.17.3\n"
          ],
          "name": "stdout"
        }
      ]
    },
    {
      "cell_type": "code",
      "metadata": {
        "colab": {
          "base_uri": "https://localhost:8080/"
        },
        "id": "NLH7yFI5x3Ag",
        "outputId": "2f34f4ea-3bac-42a7-e091-2377a8d076b3"
      },
      "source": [
        "num_states = env.observation_space.shape[0]\r\n",
        "print(\"Size of State Space ->  {}\".format(num_states))\r\n",
        "num_actions = env.action_space.shape[0]\r\n",
        "print(\"Size of Action Space ->  {}\".format(num_actions))\r\n",
        "\r\n",
        "upper_bound = env.action_space.high[0]\r\n",
        "lower_bound = env.action_space.low[0]\r\n",
        "\r\n",
        "print(\"Max Value of Action ->  {}\".format(upper_bound))\r\n",
        "print(\"Min Value of Action ->  {}\".format(lower_bound))"
      ],
      "execution_count": 2,
      "outputs": [
        {
          "output_type": "stream",
          "text": [
            "Size of State Space ->  3\n",
            "Size of Action Space ->  1\n",
            "Max Value of Action ->  2.0\n",
            "Min Value of Action ->  -2.0\n"
          ],
          "name": "stdout"
        }
      ]
    },
    {
      "cell_type": "code",
      "metadata": {
        "id": "gZiKmvEkzFkZ"
      },
      "source": [
        "class OUActionNoise:\r\n",
        "    def __init__(self, mean, std_deviation, theta=0.15, dt=1e-2, x_initial=None):\r\n",
        "        self.theta = theta\r\n",
        "        self.mean = mean\r\n",
        "        self.std_dev = std_deviation\r\n",
        "        self.dt = dt\r\n",
        "        self.x_initial = x_initial\r\n",
        "        self.reset()\r\n",
        "\r\n",
        "    def __call__(self):\r\n",
        "        # Formula taken from https://www.wikipedia.org/wiki/Ornstein-Uhlenbeck_process.\r\n",
        "        x = (\r\n",
        "            self.x_prev\r\n",
        "            + self.theta * (self.mean - self.x_prev) * self.dt\r\n",
        "            + self.std_dev * np.sqrt(self.dt) * np.random.normal(size=self.mean.shape)\r\n",
        "        )\r\n",
        "        # Store x into x_prev\r\n",
        "        # Makes next noise dependent on current one\r\n",
        "        self.x_prev = x\r\n",
        "        return x\r\n",
        "\r\n",
        "    def reset(self):\r\n",
        "        if self.x_initial is not None:\r\n",
        "            self.x_prev = self.x_initial\r\n",
        "        else:\r\n",
        "            self.x_prev = np.zeros_like(self.mean)"
      ],
      "execution_count": 3,
      "outputs": []
    },
    {
      "cell_type": "code",
      "metadata": {
        "id": "ntl3UG7ZzH1T"
      },
      "source": [
        "def get_actor():\r\n",
        "    # Initialize weights between -3e-3 and 3-e3\r\n",
        "    last_init = tf.random_uniform_initializer(minval=-0.003, maxval=0.003)\r\n",
        "\r\n",
        "    inputs = layers.Input(shape=(num_states,))\r\n",
        "    out = layers.Dense(256, activation=\"relu\")(inputs)\r\n",
        "    out = layers.Dense(256, activation=\"relu\")(out)\r\n",
        "    outputs = layers.Dense(1, activation=\"tanh\", kernel_initializer=last_init)(out)\r\n",
        "\r\n",
        "    # Our upper bound is 2.0 for Pendulum.\r\n",
        "    outputs = outputs * upper_bound\r\n",
        "    model = tf.keras.Model(inputs, outputs)\r\n",
        "    return model\r\n",
        "\r\n",
        "\r\n",
        "def get_critic():\r\n",
        "    # State as input\r\n",
        "    state_input = layers.Input(shape=(num_states))\r\n",
        "    state_out = layers.Dense(16, activation=\"relu\")(state_input)\r\n",
        "    state_out = layers.Dense(32, activation=\"relu\")(state_out)\r\n",
        "\r\n",
        "    # Action as input\r\n",
        "    action_input = layers.Input(shape=(num_actions))\r\n",
        "    action_out = layers.Dense(32, activation=\"relu\")(action_input)\r\n",
        "\r\n",
        "    # Both are passed through seperate layer before concatenating\r\n",
        "    concat = layers.Concatenate()([state_out, action_out])\r\n",
        "\r\n",
        "    out = layers.Dense(256, activation=\"relu\")(concat)\r\n",
        "    out = layers.Dense(256, activation=\"relu\")(out)\r\n",
        "    outputs = layers.Dense(1)(out)\r\n",
        "\r\n",
        "    # Outputs single value for give state-action\r\n",
        "    model = tf.keras.Model([state_input, action_input], outputs)\r\n",
        "\r\n",
        "    return model"
      ],
      "execution_count": 4,
      "outputs": []
    },
    {
      "cell_type": "code",
      "metadata": {
        "id": "C4-TeO4mobXk"
      },
      "source": [
        "class Buffer:\r\n",
        "    def __init__(self, buffer_capacity=100000, batch_size=64):\r\n",
        "        # Number of \"experiences\" to store at max\r\n",
        "        self.buffer_capacity = buffer_capacity\r\n",
        "        # Num of tuples to train on.\r\n",
        "        self.batch_size = batch_size\r\n",
        "\r\n",
        "        # Its tells us num of times record() was called.\r\n",
        "        self.buffer_counter = 0\r\n",
        "\r\n",
        "        # Instead of list of tuples as the exp.replay concept go\r\n",
        "        # We use different np.arrays for each tuple element\r\n",
        "        self.state_buffer = np.zeros((self.buffer_capacity, num_states))\r\n",
        "        self.action_buffer = np.zeros((self.buffer_capacity, num_actions))\r\n",
        "        self.reward_buffer = np.zeros((self.buffer_capacity, 1))\r\n",
        "        self.next_state_buffer = np.zeros((self.buffer_capacity, num_states))\r\n",
        "\r\n",
        "    # Takes (s,a,r,s') obervation tuple as input\r\n",
        "    def record(self, obs_tuple):\r\n",
        "        # Set index to zero if buffer_capacity is exceeded,\r\n",
        "        # replacing old records\r\n",
        "        index = self.buffer_counter % self.buffer_capacity\r\n",
        "\r\n",
        "        self.state_buffer[index] = obs_tuple[0]\r\n",
        "        self.action_buffer[index] = obs_tuple[1]\r\n",
        "        self.reward_buffer[index] = obs_tuple[2]\r\n",
        "        self.next_state_buffer[index] = obs_tuple[3]\r\n",
        "\r\n",
        "        self.buffer_counter += 1\r\n",
        "\r\n",
        "    # Eager execution is turned on by default in TensorFlow 2. Decorating with tf.function allows\r\n",
        "    # TensorFlow to build a static graph out of the logic and computations in our function.\r\n",
        "    # This provides a large speed up for blocks of code that contain many small TensorFlow operations such as this one.\r\n",
        "    @tf.function\r\n",
        "    def update(\r\n",
        "        self, state_batch, action_batch, reward_batch, next_state_batch,\r\n",
        "    ):\r\n",
        "        # Training and updating Actor & Critic networks.\r\n",
        "        # See Pseudo Code.\r\n",
        "        with tf.GradientTape() as tape:\r\n",
        "            target_actions = target_actor(next_state_batch, training=True)\r\n",
        "            y = reward_batch + gamma * target_critic(\r\n",
        "                [next_state_batch, target_actions], training=True\r\n",
        "            )\r\n",
        "            critic_value = critic_model([state_batch, action_batch], training=True)\r\n",
        "            critic_loss = tf.math.reduce_mean(tf.math.square(y - critic_value))\r\n",
        "\r\n",
        "        critic_grad = tape.gradient(critic_loss, critic_model.trainable_variables)\r\n",
        "        critic_optimizer.apply_gradients(\r\n",
        "            zip(critic_grad, critic_model.trainable_variables)\r\n",
        "        )\r\n",
        "\r\n",
        "        with tf.GradientTape() as tape:\r\n",
        "            actions = actor_model(state_batch, training=True)\r\n",
        "            critic_value = critic_model([state_batch, actions], training=True)\r\n",
        "            # Used `-value` as we want to maximize the value given\r\n",
        "            # by the critic for our actions\r\n",
        "            actor_loss = -tf.math.reduce_mean(critic_value)\r\n",
        "\r\n",
        "        actor_grad = tape.gradient(actor_loss, actor_model.trainable_variables)\r\n",
        "        actor_optimizer.apply_gradients(\r\n",
        "            zip(actor_grad, actor_model.trainable_variables)\r\n",
        "        )\r\n",
        "\r\n",
        "    # We compute the loss and update parameters\r\n",
        "    def learn(self):\r\n",
        "        # Get sampling range\r\n",
        "        record_range = min(self.buffer_counter, self.buffer_capacity)\r\n",
        "        # Randomly sample indices\r\n",
        "        batch_indices = np.random.choice(record_range, self.batch_size)\r\n",
        "\r\n",
        "        # Convert to tensors\r\n",
        "        state_batch = tf.convert_to_tensor(self.state_buffer[batch_indices])\r\n",
        "        action_batch = tf.convert_to_tensor(self.action_buffer[batch_indices])\r\n",
        "        reward_batch = tf.convert_to_tensor(self.reward_buffer[batch_indices])\r\n",
        "        reward_batch = tf.cast(reward_batch, dtype=tf.float32)\r\n",
        "        next_state_batch = tf.convert_to_tensor(self.next_state_buffer[batch_indices])\r\n",
        "\r\n",
        "        self.update(state_batch, action_batch, reward_batch, next_state_batch)\r\n",
        "\r\n",
        "\r\n",
        "# This update target parameters slowly\r\n",
        "# Based on rate `tau`, which is much less than one.\r\n",
        "@tf.function\r\n",
        "def update_target(target_weights, weights, tau):\r\n",
        "    for (a, b) in zip(target_weights, weights):\r\n",
        "        a.assign(b * tau + a * (1 - tau))"
      ],
      "execution_count": 5,
      "outputs": []
    },
    {
      "cell_type": "code",
      "metadata": {
        "id": "8Z8zEJAT3Izz"
      },
      "source": [
        "def policy(state, noise_object):\r\n",
        "    sampled_actions = tf.squeeze(actor_model(state))\r\n",
        "    noise = noise_object()\r\n",
        "    sampled_actions = sampled_actions.numpy() + noise\r\n",
        "    legal_action = np.clip(sampled_actions, lower_bound, upper_bound)\r\n",
        "    return [np.squeeze(legal_action)]\r\n",
        "\r\n",
        "#action = np.random.choice(num_actions, p=np.squeeze(action_probs))"
      ],
      "execution_count": 6,
      "outputs": []
    },
    {
      "cell_type": "code",
      "metadata": {
        "id": "cwmK_EWw92Gi"
      },
      "source": [
        "std_dev = 0.2\r\n",
        "ou_noise = OUActionNoise(mean=np.zeros(1), std_deviation=float(std_dev) * np.ones(1))\r\n",
        "\r\n",
        "actor_model = get_actor()\r\n",
        "critic_model = get_critic()\r\n",
        "\r\n",
        "target_actor = get_actor()\r\n",
        "target_critic = get_critic()\r\n",
        "\r\n",
        "# Making the weights equal initially\r\n",
        "target_actor.set_weights(actor_model.get_weights())\r\n",
        "target_critic.set_weights(critic_model.get_weights())\r\n",
        "\r\n",
        "# Learning rate for actor-critic models\r\n",
        "critic_lr = 0.002\r\n",
        "actor_lr = 0.001\r\n",
        "\r\n",
        "critic_optimizer = tf.keras.optimizers.Adam(critic_lr)\r\n",
        "actor_optimizer = tf.keras.optimizers.Adam(actor_lr)\r\n",
        "\r\n",
        "total_episodes = 100\r\n",
        "# Discount factor for future rewards\r\n",
        "gamma = 0.99\r\n",
        "# Used to update target networks\r\n",
        "tau = 0.005\r\n",
        "\r\n",
        "buffer = Buffer(50000, 64)\r\n",
        "\r\n",
        "from IPython.display import clear_output"
      ],
      "execution_count": 7,
      "outputs": []
    },
    {
      "cell_type": "code",
      "metadata": {
        "colab": {
          "base_uri": "https://localhost:8080/",
          "height": 545
        },
        "id": "DIzaADqT9sod",
        "outputId": "a8523f16-017d-415a-d1ba-91c19c442baa"
      },
      "source": [
        "# To store reward history of each episode\r\n",
        "ep_reward_list = []\r\n",
        "# To store average reward history of last few episodes\r\n",
        "avg_reward_list = []\r\n",
        "\r\n",
        "# Takes about 4 min to train\r\n",
        "for ep in range(total_episodes):\r\n",
        "\r\n",
        "    prev_state = env.reset()\r\n",
        "    episodic_reward = 0\r\n",
        "\r\n",
        "    while True:\r\n",
        "        # Uncomment this to see the Actor in action\r\n",
        "        # But not in a python notebook.\r\n",
        "        # env.render()\r\n",
        "\r\n",
        "        tf_prev_state = tf.expand_dims(tf.convert_to_tensor(prev_state), 0)\r\n",
        "\r\n",
        "        action = policy(tf_prev_state, ou_noise)\r\n",
        "        # Recieve state and reward from environment.\r\n",
        "        state, reward, done, info = env.step(action)\r\n",
        "\r\n",
        "        buffer.record((prev_state, action, reward, state))\r\n",
        "        episodic_reward += reward\r\n",
        "\r\n",
        "        buffer.learn()\r\n",
        "        update_target(target_actor.variables, actor_model.variables, tau)\r\n",
        "        update_target(target_critic.variables, critic_model.variables, tau)\r\n",
        "\r\n",
        "        # End this episode when `done` is True\r\n",
        "        if done:\r\n",
        "            break\r\n",
        "\r\n",
        "        prev_state = state\r\n",
        "\r\n",
        "    ep_reward_list.append(episodic_reward)\r\n",
        "    avg_reward = np.mean(ep_reward_list[-40:])\r\n",
        "    avg_reward_list.append(avg_reward)\r\n",
        "    clear_output(wait=True)\r\n",
        "    print('Episode:', ep, 'Current Reward:', episodic_reward)\r\n",
        "    plt.plot(ep_reward_list)\r\n",
        "    plt.show()\r\n",
        "    \r\n",
        "\r\n",
        "# Plotting graph\r\n",
        "# Episodes versus Avg. Rewards\r\n",
        "plt.plot(avg_reward_list)\r\n",
        "plt.xlabel(\"Episode\")\r\n",
        "plt.ylabel(\"Avg. Epsiodic Reward\")\r\n",
        "plt.show()"
      ],
      "execution_count": 8,
      "outputs": [
        {
          "output_type": "stream",
          "text": [
            "Episode: 99 Current Reward: -125.74056841807307\n"
          ],
          "name": "stdout"
        },
        {
          "output_type": "display_data",
          "data": {
            "image/png": "[encoded data removed]",
            "text/plain": [
              "<Figure size 432x288 with 1 Axes>"
            ]
          },
          "metadata": {
            "tags": [],
            "needs_background": "light"
          }
        },
        {
          "output_type": "display_data",
          "data": {
            "image/png": "[encoded data removed]",
            "text/plain": [
              "<Figure size 432x288 with 1 Axes>"
            ]
          },
          "metadata": {
            "tags": [],
            "needs_background": "light"
          }
        }
      ]
    },
    {
      "cell_type": "code",
      "metadata": {
        "colab": {
          "base_uri": "https://localhost:8080/"
        },
        "id": "NDoqFPb0JlIE",
        "outputId": "7f7f4054-7f03-475d-93ed-b3a3755011d4"
      },
      "source": [
        "actor_model.save(\"PendulumDDPG\")"
      ],
      "execution_count": 9,
      "outputs": [
        {
          "output_type": "stream",
          "text": [
            "INFO:tensorflow:Assets written to: PendulumDDPG/assets\n"
          ],
          "name": "stdout"
        }
      ]
    },
    {
      "cell_type": "code",
      "metadata": {
        "colab": {
          "base_uri": "https://localhost:8080/"
        },
        "id": "1Is-ajYCJwWX",
        "outputId": "cd70adb8-fcf0-4fff-9c6b-fa99aad46fd9"
      },
      "source": [
        "reconstructed_model = keras.models.load_model('PendulumDDPG')\r\n",
        "\r\n",
        "def smart_policy(obs):\r\n",
        "    action_prob = reconstructed_model(obs[np.newaxis])\r\n",
        "    legal_action = np.clip(action_prob[0], lower_bound, upper_bound)\r\n",
        "    return legal_action\r\n",
        "\r\n",
        "totals = []\r\n",
        "for episode in range(100):\r\n",
        "    episode_reward = 0\r\n",
        "    obs = env.reset()\r\n",
        "    for step in range(200):\r\n",
        "        action = smart_policy(obs)\r\n",
        "        obs, reward, done, info = env.step(action)\r\n",
        "        #env.render()\r\n",
        "        episode_reward += reward\r\n",
        "        if done:\r\n",
        "            break\r\n",
        "    totals.append(episode_reward)\r\n",
        "\r\n",
        "env.close()\r\n",
        "\r\n",
        "import numpy as np\r\n",
        "print(np.mean(totals), np.std(totals), np.min(totals), np.max(totals))\r\n",
        "#print(totals)"
      ],
      "execution_count": 10,
      "outputs": [
        {
          "output_type": "stream",
          "text": [
            "WARNING:tensorflow:No training configuration found in save file, so the model was *not* compiled. Compile it manually.\n",
            "-144.74906647139233 93.44852100369016 -370.0602037418099 -1.2102300504388182\n"
          ],
          "name": "stdout"
        }
      ]
    }
  ]
}