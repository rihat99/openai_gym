{
  "nbformat": 4,
  "nbformat_minor": 0,
  "metadata": {
    "colab": {
      "name": "DDPG.ipynb",
      "provenance": [],
      "collapsed_sections": [],
      "authorship_tag": "ABX9TyMMp4gSX80fxDx4DApRpv1p",
      "include_colab_link": true
    },
    "kernelspec": {
      "name": "python3",
      "display_name": "Python 3"
    }
  },
  "cells": [
    {
      "cell_type": "markdown",
      "metadata": {
        "id": "view-in-github",
        "colab_type": "text"
      },
      "source": [
        "<a href=\"https://colab.research.google.com/github/rihat99/openai_gym/blob/main/MountainCarContinuous.ipynb\" target=\"_parent\"><img src=\"https://colab.research.google.com/assets/colab-badge.svg\" alt=\"Open In Colab\"/></a>"
      ]
    },
    {
      "cell_type": "code",
      "metadata": {
        "colab": {
          "base_uri": "https://localhost:8080/"
        },
        "id": "NIC_uYEExXxF",
        "outputId": "11ce3d7f-5c93-434b-aae1-de5c12577052"
      },
      "source": [
        "import gym\r\n",
        "import numpy as np\r\n",
        "import tensorflow as tf\r\n",
        "from tensorflow import keras\r\n",
        "from tensorflow.keras import layers\r\n",
        "import matplotlib.pyplot as plt\r\n",
        "import tensorflow_probability as tfp\r\n",
        "\r\n",
        "env = gym.make('MountainCarContinuous-v0')\r\n",
        "# tf.random.set_seed(42)\r\n",
        "# np.random.seed(42)\r\n",
        "# env.seed(42)\r\n",
        "print(tf.__version__)\r\n",
        "print(gym.__version__)"
      ],
      "execution_count": 1,
      "outputs": [
        {
          "output_type": "stream",
          "text": [
            "2.4.1\n",
            "0.17.3\n"
          ],
          "name": "stdout"
        }
      ]
    },
    {
      "cell_type": "code",
      "metadata": {
        "colab": {
          "base_uri": "https://localhost:8080/"
        },
        "id": "NLH7yFI5x3Ag",
        "outputId": "c3b382df-2ff8-452b-cb24-3ec479522547"
      },
      "source": [
        "num_states = env.observation_space.shape[0]\r\n",
        "print(\"Size of State Space ->  {}\".format(num_states))\r\n",
        "num_actions = env.action_space.shape[0]\r\n",
        "print(\"Size of Action Space ->  {}\".format(num_actions))\r\n",
        "#num_actions = 2\r\n",
        "\r\n",
        "upper_bound = env.action_space.high[0]\r\n",
        "lower_bound = env.action_space.low[0]\r\n",
        "\r\n",
        "print(\"Max Value of Action ->  {}\".format(upper_bound))\r\n",
        "print(\"Min Value of Action ->  {}\".format(lower_bound))"
      ],
      "execution_count": 2,
      "outputs": [
        {
          "output_type": "stream",
          "text": [
            "Size of State Space ->  2\n",
            "Size of Action Space ->  1\n",
            "Max Value of Action ->  1.0\n",
            "Min Value of Action ->  -1.0\n"
          ],
          "name": "stdout"
        }
      ]
    },
    {
      "cell_type": "code",
      "metadata": {
        "id": "gZiKmvEkzFkZ"
      },
      "source": [
        "class OUActionNoise:\r\n",
        "    def __init__(self, mean, std_deviation, theta=0.15, dt=1e-2, x_initial=None):\r\n",
        "        self.theta = theta\r\n",
        "        self.mean = mean\r\n",
        "        self.std_dev = std_deviation\r\n",
        "        self.dt = dt\r\n",
        "        self.x_initial = x_initial\r\n",
        "        self.reset()\r\n",
        "\r\n",
        "    def __call__(self):\r\n",
        "        # Formula taken from https://www.wikipedia.org/wiki/Ornstein-Uhlenbeck_process.\r\n",
        "        x = (\r\n",
        "            self.x_prev\r\n",
        "            + self.theta * (self.mean - self.x_prev) * self.dt\r\n",
        "            + self.std_dev * np.sqrt(self.dt) * np.random.normal(size=self.mean.shape)\r\n",
        "        )\r\n",
        "        # Store x into x_prev\r\n",
        "        # Makes next noise dependent on current one\r\n",
        "        self.x_prev = x\r\n",
        "        return x\r\n",
        "\r\n",
        "    def reset(self):\r\n",
        "        if self.x_initial is not None:\r\n",
        "            self.x_prev = self.x_initial\r\n",
        "        else:\r\n",
        "            self.x_prev = np.zeros_like(self.mean)"
      ],
      "execution_count": 3,
      "outputs": []
    },
    {
      "cell_type": "code",
      "metadata": {
        "id": "ntl3UG7ZzH1T"
      },
      "source": [
        "def get_actor():\r\n",
        "    # Initialize weights between -3e-3 and 3-e3\r\n",
        "    #last_init = tf.random_uniform_initializer(minval=-0.003, maxval=0.003)\r\n",
        "\r\n",
        "    inputs = layers.Input(shape=(num_states))\r\n",
        "    out = layers.Dense(64, activation=\"relu\")(inputs)\r\n",
        "    out = layers.Dense(64, activation=\"relu\")(out)\r\n",
        "    outputs = layers.Dense(num_actions, activation=\"tanh\")(out)\r\n",
        "\r\n",
        "    # Our upper bound is 2.0 for Pendulum.\r\n",
        "    #outputs = outputs * upper_bound\r\n",
        "    model = tf.keras.Model(inputs, outputs)\r\n",
        "    return model\r\n",
        "\r\n",
        "\r\n",
        "def get_critic():\r\n",
        "    # State as input\r\n",
        "    state_input = layers.Input(shape=(num_states))\r\n",
        "    state_out = layers.Dense(64, activation=\"relu\")(state_input)\r\n",
        "    #state_out = layers.Dense(32, activation=\"relu\")(state_out)\r\n",
        "\r\n",
        "    # Action as input\r\n",
        "    action_input = layers.Input(shape=(num_actions))\r\n",
        "    action_out = layers.Dense(64, activation=\"relu\")(action_input)\r\n",
        "\r\n",
        "    # Both are passed through seperate layer before concatenating\r\n",
        "    concat = layers.Concatenate()([state_out, action_out])\r\n",
        "\r\n",
        "    out = layers.Dense(256, activation=\"relu\")(concat)\r\n",
        "    #out = layers.Dense(256, activation=\"relu\")(out)\r\n",
        "    outputs = layers.Dense(1)(out)\r\n",
        "\r\n",
        "    # Outputs single value for give state-action\r\n",
        "    model = tf.keras.Model([state_input, action_input], outputs)\r\n",
        "\r\n",
        "    return model"
      ],
      "execution_count": 4,
      "outputs": []
    },
    {
      "cell_type": "code",
      "metadata": {
        "id": "C4-TeO4mobXk"
      },
      "source": [
        "from collections import deque\r\n",
        "import sys\r\n",
        "\r\n",
        "class Buffer:\r\n",
        "    def __init__(self, buffer_capacity=100000, batch_size=64):\r\n",
        "        # Number of \"experiences\" to store at max\r\n",
        "        self.buffer_capacity = buffer_capacity\r\n",
        "        # Num of tuples to train on.\r\n",
        "        self.batch_size = batch_size\r\n",
        "\r\n",
        "        # Its tells us num of times record() was called.\r\n",
        "        self.buffer_counter = 0\r\n",
        "\r\n",
        "        # Instead of list of tuples as the exp.replay concept go\r\n",
        "        # We use different np.arrays for each tuple element\r\n",
        "        self.state_buffer = np.zeros((self.buffer_capacity, num_states))\r\n",
        "        self.action_buffer = np.zeros((self.buffer_capacity, 1))\r\n",
        "        self.reward_buffer = np.zeros((self.buffer_capacity, 1))\r\n",
        "        self.next_state_buffer = np.zeros((self.buffer_capacity, num_states))\r\n",
        "        self.done_buffer = np.zeros((self.buffer_capacity, 1))\r\n",
        "\r\n",
        "    # Takes (s,a,r,s') obervation tuple as input\r\n",
        "    def record(self, obs_tuple):\r\n",
        "        # Set index to zero if buffer_capacity is exceeded,\r\n",
        "        # replacing old records\r\n",
        "        index = self.buffer_counter % self.buffer_capacity\r\n",
        "\r\n",
        "        self.state_buffer[index] = obs_tuple[0]\r\n",
        "        self.action_buffer[index] = obs_tuple[1]\r\n",
        "        self.reward_buffer[index] = obs_tuple[2]\r\n",
        "        self.next_state_buffer[index] = obs_tuple[3]\r\n",
        "        self.done_buffer[index] = obs_tuple[4]\r\n",
        "\r\n",
        "        self.buffer_counter += 1\r\n",
        "\r\n",
        "    # Eager execution is turned on by default in TensorFlow 2. Decorating with tf.function allows\r\n",
        "    # TensorFlow to build a static graph out of the logic and computations in our function.\r\n",
        "    # This provides a large speed up for blocks of code that contain many small TensorFlow operations such as this one.\r\n",
        "    @tf.function\r\n",
        "    def update(\r\n",
        "        self, state_batch, action_batch, reward_batch, next_state_batch, done_batch,\r\n",
        "    ):\r\n",
        "        # Training and updating Actor & Critic networks.\r\n",
        "        # See Pseudo Code.\r\n",
        "        with tf.GradientTape() as tape:\r\n",
        "            target_actions = target_actor(next_state_batch, training=True)\r\n",
        "            #target_actions = tf.reduce_max(target_actions, axis=1)\r\n",
        "            #target_actions = tf.cast(target_actions, dtype=tf.float32) + 0.01\r\n",
        "            y = reward_batch + (1-done_batch) * gamma * target_critic(\r\n",
        "                [next_state_batch, target_actions], training=True\r\n",
        "            )\r\n",
        "            critic_value = critic_model([state_batch, action_batch], training=True)\r\n",
        "            critic_loss = tf.math.reduce_mean(tf.math.square(y - critic_value))\r\n",
        "\r\n",
        "        critic_grad = tape.gradient(critic_loss, critic_model.trainable_variables)\r\n",
        "        critic_optimizer.apply_gradients(\r\n",
        "            zip(critic_grad, critic_model.trainable_variables)\r\n",
        "        )\r\n",
        "\r\n",
        "        with tf.GradientTape() as tape:\r\n",
        "            actions = actor_model(state_batch, training=True)\r\n",
        "            #actions = tf.reduce_max(actions, axis=1)\r\n",
        "            #actions = tf.cast(actions, dtype=tf.float32) + 0.01\r\n",
        "            critic_value = critic_model([state_batch, actions], training=True)\r\n",
        "            #critic_value = tf.squeeze(critic_value)\r\n",
        "            # Used `-value` as we want to maximize the value given\r\n",
        "            # by the critic for our actions\r\n",
        "            actor_loss = -tf.reduce_mean(critic_value)\r\n",
        "\r\n",
        "        actor_grad = tape.gradient(actor_loss, actor_model.trainable_variables)\r\n",
        "        actor_optimizer.apply_gradients(\r\n",
        "            zip(actor_grad, actor_model.trainable_variables))\r\n",
        "\r\n",
        "    # We compute the loss and update parameters\r\n",
        "    def learn(self):\r\n",
        "        # Get sampling range\r\n",
        "        record_range = min(self.buffer_counter, self.buffer_capacity)\r\n",
        "        # Randomly sample indices\r\n",
        "        batch_indices = np.random.choice(record_range, self.batch_size)\r\n",
        "\r\n",
        "        # Convert to tensors\r\n",
        "        state_batch = tf.convert_to_tensor(self.state_buffer[batch_indices])\r\n",
        "        action_batch = tf.convert_to_tensor(self.action_buffer[batch_indices])\r\n",
        "        reward_batch = tf.convert_to_tensor(self.reward_buffer[batch_indices])\r\n",
        "        reward_batch = tf.cast(reward_batch, dtype=tf.float32)\r\n",
        "        next_state_batch = tf.convert_to_tensor(self.next_state_buffer[batch_indices])\r\n",
        "        done_batch = tf.convert_to_tensor(self.done_buffer[batch_indices])\r\n",
        "        done_batch = tf.cast(done_batch, dtype=tf.float32)\r\n",
        "\r\n",
        "        self.update(state_batch, action_batch, reward_batch, next_state_batch, done_batch)\r\n",
        "\r\n",
        "\r\n",
        "# This update target parameters slowly\r\n",
        "# Based on rate `tau`, which is much less than one.\r\n",
        "@tf.function\r\n",
        "def update_target(target_weights, weights, tau):\r\n",
        "    for (a, b) in zip(target_weights, weights):\r\n",
        "        a.assign(b * tau + a * (1 - tau))"
      ],
      "execution_count": 10,
      "outputs": []
    },
    {
      "cell_type": "code",
      "metadata": {
        "id": "8Z8zEJAT3Izz"
      },
      "source": [
        "def policy(state, noise_object, epsilon=0):\r\n",
        "    sampled_actions = actor_model(state)[0]\r\n",
        "    noise = noise_object()\r\n",
        "    sampled_actions = sampled_actions.numpy() + noise\r\n",
        "    legal_action = np.clip(sampled_actions, lower_bound, upper_bound)\r\n",
        "    #legal_action = np.random.choice(num_actions, p=np.squeeze(sampled_actions))\r\n",
        "    return [np.squeeze(legal_action)]\r\n",
        "\r\n",
        "    # prob = np.max(sampled_actions)\r\n",
        "    # if np.random.rand() > prob:\r\n",
        "    #     return np.random.randint(num_actions), sampled_actions\r\n",
        "    # action = np.argmax(sampled_actions)\r\n",
        "    # return action, sampled_actions\r\n",
        "\r\n"
      ],
      "execution_count": 6,
      "outputs": []
    },
    {
      "cell_type": "code",
      "metadata": {
        "id": "cwmK_EWw92Gi"
      },
      "source": [
        "std_dev = 0.3\r\n",
        "ou_noise = OUActionNoise(mean=np.zeros(1), std_deviation=float(std_dev) * np.ones(1))\r\n",
        "\r\n",
        "actor_model = get_actor()\r\n",
        "critic_model = get_critic()\r\n",
        "\r\n",
        "target_actor = get_actor()\r\n",
        "target_critic = get_critic()\r\n",
        "\r\n",
        "# Making the weights equal initially\r\n",
        "target_actor.set_weights(actor_model.get_weights())\r\n",
        "target_critic.set_weights(critic_model.get_weights())\r\n",
        "\r\n",
        "# Learning rate for actor-critic models\r\n",
        "critic_lr = 0.002\r\n",
        "actor_lr = 0.001\r\n",
        "\r\n",
        "critic_optimizer = tf.keras.optimizers.Adam(critic_lr)\r\n",
        "actor_optimizer = tf.keras.optimizers.Adam(actor_lr)\r\n",
        "\r\n",
        "total_episodes = 700\r\n",
        "# Discount factor for future rewards\r\n",
        "gamma = 0.99\r\n",
        "# Used to update target networks\r\n",
        "tau = 0.0025\r\n",
        "epsilon = 1.0\r\n",
        "\r\n",
        "buffer = Buffer(100000, 64)\r\n",
        "\r\n",
        "from IPython.display import clear_output"
      ],
      "execution_count": 11,
      "outputs": []
    },
    {
      "cell_type": "code",
      "metadata": {
        "colab": {
          "base_uri": "https://localhost:8080/",
          "height": 663
        },
        "id": "DIzaADqT9sod",
        "outputId": "988d9e6b-b004-4cad-e8dd-25da455ef01c"
      },
      "source": [
        "ep_reward_list = []\r\n",
        "avg_reward_list = []\r\n",
        "best_score = -200\r\n",
        "best_weights = actor_model.get_weights()\r\n",
        "\r\n",
        "for ep in range(total_episodes):\r\n",
        "\r\n",
        "    prev_state = env.reset()\r\n",
        "    episodic_reward = 0\r\n",
        "\r\n",
        "    while True:\r\n",
        "\r\n",
        "        tf_prev_state = tf.expand_dims(tf.convert_to_tensor(prev_state), 0)\r\n",
        "\r\n",
        "        action= policy(tf_prev_state, ou_noise, epsilon)\r\n",
        "        state, reward, done, info = env.step(action)\r\n",
        "\r\n",
        "        buffer.record((prev_state, action, reward, state, done))\r\n",
        "        episodic_reward += reward\r\n",
        "        buffer.learn()\r\n",
        "        update_target(target_actor.variables, actor_model.variables, tau)\r\n",
        "        update_target(target_critic.variables, critic_model.variables, tau)\r\n",
        "\r\n",
        "        if done:\r\n",
        "            epsilon = max(0.01, epsilon*0.99)\r\n",
        "            break\r\n",
        "\r\n",
        "        prev_state = state\r\n",
        "\r\n",
        "    ep_reward_list.append(episodic_reward)\r\n",
        "    avg_reward = np.mean(ep_reward_list[-40:])\r\n",
        "    avg_reward_list.append(avg_reward)\r\n",
        "    clear_output(wait=True)\r\n",
        "    print('Episode:', ep, 'Current Reward:', episodic_reward)\r\n",
        "    print('Average_reward: ', avg_reward)\r\n",
        "    if avg_reward > best_score:\r\n",
        "        best_weights = actor_model.get_weights()\r\n",
        "        best_score = avg_reward\r\n",
        "    plt.plot(ep_reward_list)\r\n",
        "    plt.show()\r\n",
        "    \r\n",
        "\r\n",
        "plt.plot(avg_reward_list)\r\n",
        "plt.xlabel(\"Episode\")\r\n",
        "plt.ylabel(\"Avg. Epsiodic Reward\")\r\n",
        "plt.show()"
      ],
      "execution_count": 12,
      "outputs": [
        {
          "output_type": "stream",
          "text": [
            "Episode: 225 Current Reward: 92.09780669936393\n",
            "Average_reward:  94.259426994518\n"
          ],
          "name": "stdout"
        },
        {
          "output_type": "display_data",
          "data": {
            "image/png": "[encoded data removed]",
            "text/plain": [
              "<Figure size 432x288 with 1 Axes>"
            ]
          },
          "metadata": {
            "tags": [],
            "needs_background": "light"
          }
        },
        {
          "output_type": "error",
          "ename": "KeyboardInterrupt",
          "evalue": "ignored",
          "traceback": [
            "\u001b[0;31m---------------------------------------------------------------------------\u001b[0m",
            "\u001b[0;31mKeyboardInterrupt\u001b[0m                         Traceback (most recent call last)",
            "\u001b[0;32m<ipython-input-12-216f6eda2b3b>\u001b[0m in \u001b[0;36m<module>\u001b[0;34m()\u001b[0m\n\u001b[1;32m     20\u001b[0m         \u001b[0mbuffer\u001b[0m\u001b[0;34m.\u001b[0m\u001b[0mlearn\u001b[0m\u001b[0;34m(\u001b[0m\u001b[0;34m)\u001b[0m\u001b[0;34m\u001b[0m\u001b[0;34m\u001b[0m\u001b[0m\n\u001b[1;32m     21\u001b[0m         \u001b[0mupdate_target\u001b[0m\u001b[0;34m(\u001b[0m\u001b[0mtarget_actor\u001b[0m\u001b[0;34m.\u001b[0m\u001b[0mvariables\u001b[0m\u001b[0;34m,\u001b[0m \u001b[0mactor_model\u001b[0m\u001b[0;34m.\u001b[0m\u001b[0mvariables\u001b[0m\u001b[0;34m,\u001b[0m \u001b[0mtau\u001b[0m\u001b[0;34m)\u001b[0m\u001b[0;34m\u001b[0m\u001b[0;34m\u001b[0m\u001b[0m\n\u001b[0;32m---> 22\u001b[0;31m         \u001b[0mupdate_target\u001b[0m\u001b[0;34m(\u001b[0m\u001b[0mtarget_critic\u001b[0m\u001b[0;34m.\u001b[0m\u001b[0mvariables\u001b[0m\u001b[0;34m,\u001b[0m \u001b[0mcritic_model\u001b[0m\u001b[0;34m.\u001b[0m\u001b[0mvariables\u001b[0m\u001b[0;34m,\u001b[0m \u001b[0mtau\u001b[0m\u001b[0;34m)\u001b[0m\u001b[0;34m\u001b[0m\u001b[0;34m\u001b[0m\u001b[0m\n\u001b[0m\u001b[1;32m     23\u001b[0m \u001b[0;34m\u001b[0m\u001b[0m\n\u001b[1;32m     24\u001b[0m         \u001b[0;32mif\u001b[0m \u001b[0mdone\u001b[0m\u001b[0;34m:\u001b[0m\u001b[0;34m\u001b[0m\u001b[0;34m\u001b[0m\u001b[0m\n",
            "\u001b[0;32m/usr/local/lib/python3.7/dist-packages/tensorflow/python/eager/def_function.py\u001b[0m in \u001b[0;36m__call__\u001b[0;34m(self, *args, **kwds)\u001b[0m\n\u001b[1;32m    826\u001b[0m     \u001b[0mtracing_count\u001b[0m \u001b[0;34m=\u001b[0m \u001b[0mself\u001b[0m\u001b[0;34m.\u001b[0m\u001b[0mexperimental_get_tracing_count\u001b[0m\u001b[0;34m(\u001b[0m\u001b[0;34m)\u001b[0m\u001b[0;34m\u001b[0m\u001b[0;34m\u001b[0m\u001b[0m\n\u001b[1;32m    827\u001b[0m     \u001b[0;32mwith\u001b[0m \u001b[0mtrace\u001b[0m\u001b[0;34m.\u001b[0m\u001b[0mTrace\u001b[0m\u001b[0;34m(\u001b[0m\u001b[0mself\u001b[0m\u001b[0;34m.\u001b[0m\u001b[0m_name\u001b[0m\u001b[0;34m)\u001b[0m \u001b[0;32mas\u001b[0m \u001b[0mtm\u001b[0m\u001b[0;34m:\u001b[0m\u001b[0;34m\u001b[0m\u001b[0;34m\u001b[0m\u001b[0m\n\u001b[0;32m--> 828\u001b[0;31m       \u001b[0mresult\u001b[0m \u001b[0;34m=\u001b[0m \u001b[0mself\u001b[0m\u001b[0;34m.\u001b[0m\u001b[0m_call\u001b[0m\u001b[0;34m(\u001b[0m\u001b[0;34m*\u001b[0m\u001b[0margs\u001b[0m\u001b[0;34m,\u001b[0m \u001b[0;34m**\u001b[0m\u001b[0mkwds\u001b[0m\u001b[0;34m)\u001b[0m\u001b[0;34m\u001b[0m\u001b[0;34m\u001b[0m\u001b[0m\n\u001b[0m\u001b[1;32m    829\u001b[0m       \u001b[0mcompiler\u001b[0m \u001b[0;34m=\u001b[0m \u001b[0;34m\"xla\"\u001b[0m \u001b[0;32mif\u001b[0m \u001b[0mself\u001b[0m\u001b[0;34m.\u001b[0m\u001b[0m_experimental_compile\u001b[0m \u001b[0;32melse\u001b[0m \u001b[0;34m\"nonXla\"\u001b[0m\u001b[0;34m\u001b[0m\u001b[0;34m\u001b[0m\u001b[0m\n\u001b[1;32m    830\u001b[0m       \u001b[0mnew_tracing_count\u001b[0m \u001b[0;34m=\u001b[0m \u001b[0mself\u001b[0m\u001b[0;34m.\u001b[0m\u001b[0mexperimental_get_tracing_count\u001b[0m\u001b[0;34m(\u001b[0m\u001b[0;34m)\u001b[0m\u001b[0;34m\u001b[0m\u001b[0;34m\u001b[0m\u001b[0m\n",
            "\u001b[0;32m/usr/local/lib/python3.7/dist-packages/tensorflow/python/eager/def_function.py\u001b[0m in \u001b[0;36m_call\u001b[0;34m(self, *args, **kwds)\u001b[0m\n\u001b[1;32m    860\u001b[0m       \u001b[0;31m# In this case we have not created variables on the first call. So we can\u001b[0m\u001b[0;34m\u001b[0m\u001b[0;34m\u001b[0m\u001b[0;34m\u001b[0m\u001b[0m\n\u001b[1;32m    861\u001b[0m       \u001b[0;31m# run the first trace but we should fail if variables are created.\u001b[0m\u001b[0;34m\u001b[0m\u001b[0;34m\u001b[0m\u001b[0;34m\u001b[0m\u001b[0m\n\u001b[0;32m--> 862\u001b[0;31m       \u001b[0mresults\u001b[0m \u001b[0;34m=\u001b[0m \u001b[0mself\u001b[0m\u001b[0;34m.\u001b[0m\u001b[0m_stateful_fn\u001b[0m\u001b[0;34m(\u001b[0m\u001b[0;34m*\u001b[0m\u001b[0margs\u001b[0m\u001b[0;34m,\u001b[0m \u001b[0;34m**\u001b[0m\u001b[0mkwds\u001b[0m\u001b[0;34m)\u001b[0m\u001b[0;34m\u001b[0m\u001b[0;34m\u001b[0m\u001b[0m\n\u001b[0m\u001b[1;32m    863\u001b[0m       \u001b[0;32mif\u001b[0m \u001b[0mself\u001b[0m\u001b[0;34m.\u001b[0m\u001b[0m_created_variables\u001b[0m\u001b[0;34m:\u001b[0m\u001b[0;34m\u001b[0m\u001b[0;34m\u001b[0m\u001b[0m\n\u001b[1;32m    864\u001b[0m         raise ValueError(\"Creating variables on a non-first call to a function\"\n",
            "\u001b[0;32m/usr/local/lib/python3.7/dist-packages/tensorflow/python/eager/function.py\u001b[0m in \u001b[0;36m__call__\u001b[0;34m(self, *args, **kwargs)\u001b[0m\n\u001b[1;32m   2941\u001b[0m        filtered_flat_args) = self._maybe_define_function(args, kwargs)\n\u001b[1;32m   2942\u001b[0m     return graph_function._call_flat(\n\u001b[0;32m-> 2943\u001b[0;31m         filtered_flat_args, captured_inputs=graph_function.captured_inputs)  # pylint: disable=protected-access\n\u001b[0m\u001b[1;32m   2944\u001b[0m \u001b[0;34m\u001b[0m\u001b[0m\n\u001b[1;32m   2945\u001b[0m   \u001b[0;34m@\u001b[0m\u001b[0mproperty\u001b[0m\u001b[0;34m\u001b[0m\u001b[0;34m\u001b[0m\u001b[0m\n",
            "\u001b[0;32m/usr/local/lib/python3.7/dist-packages/tensorflow/python/eager/function.py\u001b[0m in \u001b[0;36m_call_flat\u001b[0;34m(self, args, captured_inputs, cancellation_manager)\u001b[0m\n\u001b[1;32m   1917\u001b[0m       \u001b[0;31m# No tape is watching; skip to running the function.\u001b[0m\u001b[0;34m\u001b[0m\u001b[0;34m\u001b[0m\u001b[0;34m\u001b[0m\u001b[0m\n\u001b[1;32m   1918\u001b[0m       return self._build_call_outputs(self._inference_function.call(\n\u001b[0;32m-> 1919\u001b[0;31m           ctx, args, cancellation_manager=cancellation_manager))\n\u001b[0m\u001b[1;32m   1920\u001b[0m     forward_backward = self._select_forward_and_backward_functions(\n\u001b[1;32m   1921\u001b[0m         \u001b[0margs\u001b[0m\u001b[0;34m,\u001b[0m\u001b[0;34m\u001b[0m\u001b[0;34m\u001b[0m\u001b[0m\n",
            "\u001b[0;32m/usr/local/lib/python3.7/dist-packages/tensorflow/python/eager/function.py\u001b[0m in \u001b[0;36mcall\u001b[0;34m(self, ctx, args, cancellation_manager)\u001b[0m\n\u001b[1;32m    558\u001b[0m               \u001b[0minputs\u001b[0m\u001b[0;34m=\u001b[0m\u001b[0margs\u001b[0m\u001b[0;34m,\u001b[0m\u001b[0;34m\u001b[0m\u001b[0;34m\u001b[0m\u001b[0m\n\u001b[1;32m    559\u001b[0m               \u001b[0mattrs\u001b[0m\u001b[0;34m=\u001b[0m\u001b[0mattrs\u001b[0m\u001b[0;34m,\u001b[0m\u001b[0;34m\u001b[0m\u001b[0;34m\u001b[0m\u001b[0m\n\u001b[0;32m--> 560\u001b[0;31m               ctx=ctx)\n\u001b[0m\u001b[1;32m    561\u001b[0m         \u001b[0;32melse\u001b[0m\u001b[0;34m:\u001b[0m\u001b[0;34m\u001b[0m\u001b[0;34m\u001b[0m\u001b[0m\n\u001b[1;32m    562\u001b[0m           outputs = execute.execute_with_cancellation(\n",
            "\u001b[0;32m/usr/local/lib/python3.7/dist-packages/tensorflow/python/eager/execute.py\u001b[0m in \u001b[0;36mquick_execute\u001b[0;34m(op_name, num_outputs, inputs, attrs, ctx, name)\u001b[0m\n\u001b[1;32m     58\u001b[0m     \u001b[0mctx\u001b[0m\u001b[0;34m.\u001b[0m\u001b[0mensure_initialized\u001b[0m\u001b[0;34m(\u001b[0m\u001b[0;34m)\u001b[0m\u001b[0;34m\u001b[0m\u001b[0;34m\u001b[0m\u001b[0m\n\u001b[1;32m     59\u001b[0m     tensors = pywrap_tfe.TFE_Py_Execute(ctx._handle, device_name, op_name,\n\u001b[0;32m---> 60\u001b[0;31m                                         inputs, attrs, num_outputs)\n\u001b[0m\u001b[1;32m     61\u001b[0m   \u001b[0;32mexcept\u001b[0m \u001b[0mcore\u001b[0m\u001b[0;34m.\u001b[0m\u001b[0m_NotOkStatusException\u001b[0m \u001b[0;32mas\u001b[0m \u001b[0me\u001b[0m\u001b[0;34m:\u001b[0m\u001b[0;34m\u001b[0m\u001b[0;34m\u001b[0m\u001b[0m\n\u001b[1;32m     62\u001b[0m     \u001b[0;32mif\u001b[0m \u001b[0mname\u001b[0m \u001b[0;32mis\u001b[0m \u001b[0;32mnot\u001b[0m \u001b[0;32mNone\u001b[0m\u001b[0;34m:\u001b[0m\u001b[0;34m\u001b[0m\u001b[0;34m\u001b[0m\u001b[0m\n",
            "\u001b[0;31mKeyboardInterrupt\u001b[0m: "
          ]
        }
      ]
    },
    {
      "cell_type": "code",
      "metadata": {
        "colab": {
          "base_uri": "https://localhost:8080/"
        },
        "id": "NDoqFPb0JlIE",
        "outputId": "562d5dd1-a804-44e1-d67e-88990a353a62"
      },
      "source": [
        "actor_model.save(\"MountainCarContinuous\")"
      ],
      "execution_count": 13,
      "outputs": [
        {
          "output_type": "stream",
          "text": [
            "INFO:tensorflow:Assets written to: MountainCarContinuous/assets\n"
          ],
          "name": "stdout"
        }
      ]
    },
    {
      "cell_type": "code",
      "metadata": {
        "colab": {
          "base_uri": "https://localhost:8080/"
        },
        "id": "1Is-ajYCJwWX",
        "outputId": "47b892e1-9269-4eac-f69b-9ae78717c0f3"
      },
      "source": [
        "reconstructed_model = keras.models.load_model('MountainCarContinuous')\r\n",
        "\r\n",
        "def smart_policy(obs):\r\n",
        "    action_prob = reconstructed_model(obs[np.newaxis])\r\n",
        "    legal_action = np.clip(action_prob[0], lower_bound, upper_bound)\r\n",
        "    return legal_action\r\n",
        "\r\n",
        "totals = []\r\n",
        "for episode in range(100):\r\n",
        "    episode_reward = 0\r\n",
        "    obs = env.reset()\r\n",
        "    for step in range(200):\r\n",
        "        action = smart_policy(obs)\r\n",
        "        obs, reward, done, info = env.step(action)\r\n",
        "        #env.render()\r\n",
        "        episode_reward += reward\r\n",
        "        if done:\r\n",
        "            break\r\n",
        "    totals.append(episode_reward)\r\n",
        "\r\n",
        "env.close()\r\n",
        "\r\n",
        "import numpy as np\r\n",
        "print(np.mean(totals), np.std(totals), np.min(totals), np.max(totals))\r\n",
        "#print(totals)"
      ],
      "execution_count": 14,
      "outputs": [
        {
          "output_type": "stream",
          "text": [
            "WARNING:tensorflow:No training configuration found in save file, so the model was *not* compiled. Compile it manually.\n",
            "93.4443126922632 0.029127116190577614 93.34364161008428 93.48930569495236\n"
          ],
          "name": "stdout"
        }
      ]
    },
    {
      "cell_type": "code",
      "metadata": {
        "colab": {
          "base_uri": "https://localhost:8080/"
        },
        "id": "uyK8M7E_3CCB",
        "outputId": "c04b56fc-fffa-4625-d10d-3753f24f015e"
      },
      "source": [
        "a = np.array([1.0, 2.0, 3.0])\r\n",
        "b = a + 0.01\r\n",
        "print(b)"
      ],
      "execution_count": null,
      "outputs": [
        {
          "output_type": "stream",
          "text": [
            "[1.01 2.01 3.01]\n"
          ],
          "name": "stdout"
        }
      ]
    }
  ]
}