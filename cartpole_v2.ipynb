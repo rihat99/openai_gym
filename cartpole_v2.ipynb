{
  "nbformat": 4,
  "nbformat_minor": 0,
  "metadata": {
    "colab": {
      "name": "gym.ipynb",
      "provenance": [],
      "authorship_tag": "ABX9TyNOzXjEhjweucTRjRe6V2Nz",
      "include_colab_link": true
    },
    "kernelspec": {
      "name": "python3",
      "display_name": "Python 3"
    },
    "accelerator": "GPU"
  },
  "cells": [
    {
      "cell_type": "markdown",
      "metadata": {
        "id": "view-in-github",
        "colab_type": "text"
      },
      "source": [
        "<a href=\"https://colab.research.google.com/github/rihat99/openai_gym/blob/main/cartpole_v2.ipynb\" target=\"_parent\"><img src=\"https://colab.research.google.com/assets/colab-badge.svg\" alt=\"Open In Colab\"/></a>"
      ]
    },
    {
      "cell_type": "code",
      "metadata": {
        "colab": {
          "base_uri": "https://localhost:8080/"
        },
        "id": "8m9g2jdRclr2",
        "outputId": "595d9a23-1feb-4bde-d9ce-7653feb0ff58"
      },
      "source": [
        "import gym\r\n",
        "import numpy as np\r\n",
        "import tensorflow as tf\r\n",
        "from tensorflow import keras\r\n",
        "\r\n",
        "env = gym.make('CartPole-v1')\r\n",
        "tf.random.set_seed(42)\r\n",
        "np.random.seed(42)\r\n",
        "print(tf.__version__)\r\n",
        "print(gym.__version__)"
      ],
      "execution_count": 5,
      "outputs": [
        {
          "output_type": "stream",
          "text": [
            "2.4.1\n",
            "0.17.3\n"
          ],
          "name": "stdout"
        }
      ]
    },
    {
      "cell_type": "code",
      "metadata": {
        "id": "ckLfunctcpjj"
      },
      "source": [
        "input_shape = [4]\r\n",
        "n_outputs = 2\r\n",
        "\r\n",
        "K = keras.backend\r\n",
        "input_states = keras.layers.Input(shape=[4])\r\n",
        "hidden1 = keras.layers.Dense(32, activation=\"elu\")(input_states)\r\n",
        "hidden2 = keras.layers.Dense(32, activation=\"elu\")(hidden1)\r\n",
        "state_values = keras.layers.Dense(1)(hidden2)\r\n",
        "raw_advantages = keras.layers.Dense(n_outputs)(hidden2)\r\n",
        "advantages = raw_advantages - K.max(raw_advantages, axis=1, keepdims=True)\r\n",
        "Q_values = state_values + advantages\r\n",
        "model = keras.Model(inputs=[input_states], outputs=[Q_values])\r\n",
        "\r\n",
        "target = keras.models.clone_model(model)\r\n",
        "target.set_weights(model.get_weights())"
      ],
      "execution_count": 27,
      "outputs": []
    },
    {
      "cell_type": "code",
      "metadata": {
        "id": "1go5BqkxcqNM"
      },
      "source": [
        "def epsilon_greedy_policy(state, epsilon=0):\r\n",
        "    if np.random.rand() < epsilon:\r\n",
        "        return np.random.randint(2)\r\n",
        "    else:\r\n",
        "        Q_values = model.predict(state[np.newaxis])\r\n",
        "        return np.argmax(Q_values[0])\r\n",
        "\r\n",
        "from collections import deque\r\n",
        "replay_memory = deque(maxlen=10000)\r\n",
        "\r\n",
        "def sample_experiences(batch_size):\r\n",
        "    sample_size = min(batch_size, len(replay_memory))\r\n",
        "    indices = np.random.randint(len(replay_memory), size=sample_size)\r\n",
        "    batch = [replay_memory[index] for index in indices]\r\n",
        "    states, actions, rewards, next_states, dones = [\r\n",
        "        np.array([experience[field_index] for experience in batch])\r\n",
        "        for field_index in range(5)]\r\n",
        "    return states, actions, rewards, next_states, dones\r\n",
        "\r\n",
        "def play_one_step(env, state, epsilon):\r\n",
        "    action = epsilon_greedy_policy(state, epsilon)\r\n",
        "    next_state, reward, done, info = env.step(action)\r\n",
        "    replay_memory.append((state, action, reward, next_state, done))\r\n",
        "    return next_state, reward, done, info"
      ],
      "execution_count": 21,
      "outputs": []
    },
    {
      "cell_type": "code",
      "metadata": {
        "id": "e1lWJvIgcsyK"
      },
      "source": [
        "batch_size = 32\r\n",
        "discount_rate = 0.97\r\n",
        "optimizer = keras.optimizers.Adam(lr=0.001)\r\n",
        "loss_fn = keras.losses.mean_squared_error\r\n",
        "\r\n",
        "def training_step(batch_size):\r\n",
        "    experiences = sample_experiences(batch_size)\r\n",
        "    states, actions, rewards, next_states, dones = experiences\r\n",
        "    next_Q_values = model.predict(next_states)\r\n",
        "    best_next_actions = np.argmax(next_Q_values, axis=1)\r\n",
        "    next_mask = tf.one_hot(best_next_actions, n_outputs).numpy()\r\n",
        "    next_best_Q_values = (target.predict(next_states) * next_mask).sum(axis=1)\r\n",
        "\r\n",
        "    target_Q_values = (rewards +\r\n",
        "                       (1 - dones) * discount_rate * next_best_Q_values)\r\n",
        "    target_Q_values = target_Q_values.reshape(-1, 1)\r\n",
        "    mask = tf.one_hot(actions, n_outputs)\r\n",
        "    with tf.GradientTape() as tape:\r\n",
        "        all_Q_values = model(states)\r\n",
        "        Q_values = tf.reduce_sum(all_Q_values * mask, axis=1, keepdims=True)\r\n",
        "        loss = tf.reduce_mean(loss_fn(target_Q_values, Q_values))\r\n",
        "    grads = tape.gradient(loss, model.trainable_variables)\r\n",
        "    optimizer.apply_gradients(zip(grads, model.trainable_variables))"
      ],
      "execution_count": 22,
      "outputs": []
    },
    {
      "cell_type": "code",
      "metadata": {
        "id": "LtlY1a0OcvHm"
      },
      "source": [
        "from IPython.display import clear_output\r\n",
        "all_rewards = []\r\n",
        "best_score = 0\r\n",
        "epsilon = 1.0\r\n",
        "env.seed(42)\r\n",
        "np.random.seed(42)\r\n",
        "tf.random.set_seed(42)"
      ],
      "execution_count": 26,
      "outputs": []
    },
    {
      "cell_type": "code",
      "metadata": {
        "colab": {
          "base_uri": "https://localhost:8080/"
        },
        "id": "yuKfQlWWcxUV",
        "outputId": "46f33d3b-9c46-43b8-f12c-0744b93ce7d0"
      },
      "source": [
        "for episode in range(150):\r\n",
        "    obs = env.reset()\r\n",
        "    current_reward = 0\r\n",
        "    for step in range(200):\r\n",
        "        #epsilon = max(1 - episode / 600, 0.01)\r\n",
        "        obs, reward, done, info = play_one_step(env, obs, epsilon)\r\n",
        "        current_reward += reward\r\n",
        "        training_step(batch_size)\r\n",
        "        if step >= best_score:\r\n",
        "            best_weights = model.get_weights()\r\n",
        "            best_score = step\r\n",
        "        if done:\r\n",
        "            epsilon = max(0.1, epsilon*0.99)\r\n",
        "            break\r\n",
        "\r\n",
        "    target.set_weights(model.get_weights())\r\n",
        "    all_rewards.append(current_reward)\r\n",
        "    clear_output(wait=True)\r\n",
        "    print('Episode:', episode, 'Current Reward:', current_reward)\r\n",
        "\r\n",
        "model.set_weights(best_weights)"
      ],
      "execution_count": 28,
      "outputs": [
        {
          "output_type": "stream",
          "text": [
            "Episode: 149 Current Reward: 200.0\n"
          ],
          "name": "stdout"
        }
      ]
    },
    {
      "cell_type": "code",
      "metadata": {
        "colab": {
          "base_uri": "https://localhost:8080/",
          "height": 283
        },
        "id": "2XYDY_1Xc0HA",
        "outputId": "7c9770e2-4913-4bf1-9b3e-5bc0e2071b84"
      },
      "source": [
        "import matplotlib.pyplot as plt\r\n",
        "\r\n",
        "plt.plot(all_rewards)\r\n",
        "plt.show()\r\n",
        "print(best_score)"
      ],
      "execution_count": 29,
      "outputs": [
        {
          "output_type": "display_data",
          "data": {
            "image/png": "[encoded data removed]",
            "text/plain": [
              "<Figure size 432x288 with 1 Axes>"
            ]
          },
          "metadata": {
            "tags": [],
            "needs_background": "light"
          }
        },
        {
          "output_type": "stream",
          "text": [
            "199\n"
          ],
          "name": "stdout"
        }
      ]
    },
    {
      "cell_type": "code",
      "metadata": {
        "colab": {
          "base_uri": "https://localhost:8080/"
        },
        "id": "OF0V45slc1z4",
        "outputId": "4bccf418-535d-451e-896b-90da230a2c81"
      },
      "source": [
        "model.save('CartpoleQ')"
      ],
      "execution_count": 30,
      "outputs": [
        {
          "output_type": "stream",
          "text": [
            "INFO:tensorflow:Assets written to: CartpoleQ/assets\n"
          ],
          "name": "stdout"
        }
      ]
    },
    {
      "cell_type": "code",
      "metadata": {
        "colab": {
          "base_uri": "https://localhost:8080/"
        },
        "id": "FJUKbOznoBPd",
        "outputId": "26a46782-dbd3-4732-dbf8-d8ea4eaa1058"
      },
      "source": [
        "reconstructed_model = keras.models.load_model('CartpoleQ')\r\n",
        "\r\n",
        "def smart_policy(obs):\r\n",
        "    Q_values = model(obs[np.newaxis])\r\n",
        "    return np.argmax(Q_values[0])\r\n",
        "\r\n",
        "totals = []\r\n",
        "for episode in range(100):\r\n",
        "    episode_reward = 0\r\n",
        "    obs = env.reset()\r\n",
        "    for step in range(200):\r\n",
        "        action = smart_policy(obs)\r\n",
        "        obs, reward, done, info = env.step(action)\r\n",
        "        #env.render()\r\n",
        "        episode_reward += reward\r\n",
        "        if done:\r\n",
        "            break\r\n",
        "    totals.append(episode_reward)\r\n",
        "\r\n",
        "env.close()\r\n",
        "\r\n",
        "import numpy as np\r\n",
        "print(np.mean(totals), np.std(totals), np.min(totals), np.max(totals))\r\n",
        "#print(totals)"
      ],
      "execution_count": 31,
      "outputs": [
        {
          "output_type": "stream",
          "text": [
            "WARNING:tensorflow:No training configuration found in save file, so the model was *not* compiled. Compile it manually.\n",
            "200.0 0.0 200.0 200.0\n"
          ],
          "name": "stdout"
        }
      ]
    }
  ]
}